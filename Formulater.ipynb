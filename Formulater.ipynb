{
 "cells": [
  {
   "cell_type": "code",
   "execution_count": 12,
   "metadata": {},
   "outputs": [],
   "source": [
    "import pandas as pd\n",
    "from sklearn.preprocessing import StandardScaler\n",
    "import os\n",
    "import datetime"
   ]
  },
  {
   "cell_type": "code",
   "execution_count": 13,
   "metadata": {},
   "outputs": [],
   "source": [
    "# Set up the file path for the input Excel file\n",
    "file_path = '/Users/paraggupta/Desktop/projects/TVD_Associates/Data/Dataset_Full.xlsx'\n",
    "\n",
    "# Read the Excel file into a DataFrame\n",
    "data = pd.read_excel(file_path)"
   ]
  },
  {
   "cell_type": "code",
   "execution_count": 14,
   "metadata": {},
   "outputs": [],
   "source": [
    "# Identify and convert numeric columns to numeric data type\n",
    "numeric_cols = ['Amount Paid', 'Balance']\n",
    "data[numeric_cols] = data[numeric_cols].apply(pd.to_numeric, errors='coerce')"
   ]
  },
  {
   "cell_type": "code",
   "execution_count": null,
   "metadata": {},
   "outputs": [],
   "source": [
    "# Convert the 'Date Registered' column to datetime\n",
    "data['Date Registered'] = pd.to_datetime(data['Date Registered'], errors='coerce')\n",
    "#Calculate the nimber of day since\n",
    "data['Days_Registered'] = (datetime.datetime.today() - data['Date Registered']).dt.days"
   ]
  },
  {
   "cell_type": "code",
   "execution_count": 26,
   "metadata": {},
   "outputs": [],
   "source": [
    "#grouping together zipcodes\n",
    "zip_series = pd.Series(data['Address Main | Zip'])\n",
    "zip_count = zip_series.value_counts()\n",
    "\n",
    "#A list of all the indices and the a list of all their counts\n",
    "zip_code_names = zip_count.index\n",
    "zip_code_counts = zip_count.values"
   ]
  }
 ],
 "metadata": {
  "kernelspec": {
   "display_name": "Python 3",
   "language": "python",
   "name": "python3"
  },
  "language_info": {
   "codemirror_mode": {
    "name": "ipython",
    "version": 3
   },
   "file_extension": ".py",
   "mimetype": "text/x-python",
   "name": "python",
   "nbconvert_exporter": "python",
   "pygments_lexer": "ipython3",
   "version": "3.11.4"
  }
 },
 "nbformat": 4,
 "nbformat_minor": 2
}
