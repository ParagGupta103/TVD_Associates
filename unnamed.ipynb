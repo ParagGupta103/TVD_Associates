{
 "cells": [
  {
   "cell_type": "code",
   "execution_count": 12,
   "metadata": {},
   "outputs": [],
   "source": [
    "import pandas as pd\n",
    "from sklearn.preprocessing import StandardScaler\n",
    "import os\n",
    "import datetime"
   ]
  },
  {
   "cell_type": "code",
   "execution_count": 13,
   "metadata": {},
   "outputs": [],
   "source": [
    "# Set up the file path for the input Excel file\n",
    "file_path = '/Users/paraggupta/Desktop/projects/TVD_Associates/Data/Dataset_Full.xlsx'\n",
    "\n",
    "# Read the Excel file into a DataFrame\n",
    "data = pd.read_excel(file_path)"
   ]
  },
  {
   "cell_type": "code",
   "execution_count": 14,
   "metadata": {},
   "outputs": [],
   "source": [
    "# Identify and convert numeric columns to numeric data type\n",
    "numeric_cols = ['Amount Paid', 'Balance']\n",
    "data[numeric_cols] = data[numeric_cols].apply(pd.to_numeric, errors='coerce')"
   ]
  },
  {
   "cell_type": "code",
   "execution_count": null,
   "metadata": {},
   "outputs": [],
   "source": [
    "# Convert the 'Date Registered' column to datetime\n",
    "data['Date Registered'] = pd.to_datetime(data['Date Registered'], errors='coerce')\n",
    "#Calculate the nimber of day since\n",
    "data['Days_Registered'] = (datetime.datetime.today() - data['Date Registered']).dt.days"
   ]
  },
  {
   "cell_type": "code",
   "execution_count": 26,
   "metadata": {},
   "outputs": [],
   "source": [
    "#grouping together zipcodes\n",
    "zip_series = pd.Series(data['Address Main | Zip'])\n",
    "zip_count = zip_series.value_counts()\n",
    "\n",
    "#A list of all the indices and the a list of all their counts\n",
    "zip_code_names = zip_count.index\n",
    "zip_code_counts = zip_count.values"
   ]
  },
  {
   "cell_type": "code",
   "execution_count": 27,
   "metadata": {},
   "outputs": [
    {
     "ename": "JSONDecodeError",
     "evalue": "Extra data: line 1 column 4 (char 3)",
     "output_type": "error",
     "traceback": [
      "\u001b[0;31m---------------------------------------------------------------------------\u001b[0m",
      "\u001b[0;31mJSONDecodeError\u001b[0m                           Traceback (most recent call last)",
      "File \u001b[0;32m~/anaconda3/lib/python3.11/site-packages/requests/models.py:971\u001b[0m, in \u001b[0;36mResponse.json\u001b[0;34m(self, **kwargs)\u001b[0m\n\u001b[1;32m    970\u001b[0m \u001b[39mtry\u001b[39;00m:\n\u001b[0;32m--> 971\u001b[0m     \u001b[39mreturn\u001b[39;00m complexjson\u001b[39m.\u001b[39mloads(\u001b[39mself\u001b[39m\u001b[39m.\u001b[39mtext, \u001b[39m*\u001b[39m\u001b[39m*\u001b[39mkwargs)\n\u001b[1;32m    972\u001b[0m \u001b[39mexcept\u001b[39;00m JSONDecodeError \u001b[39mas\u001b[39;00m e:\n\u001b[1;32m    973\u001b[0m     \u001b[39m# Catch JSON-related errors and raise as requests.JSONDecodeError\u001b[39;00m\n\u001b[1;32m    974\u001b[0m     \u001b[39m# This aliases json.JSONDecodeError and simplejson.JSONDecodeError\u001b[39;00m\n",
      "File \u001b[0;32m~/anaconda3/lib/python3.11/json/__init__.py:346\u001b[0m, in \u001b[0;36mloads\u001b[0;34m(s, cls, object_hook, parse_float, parse_int, parse_constant, object_pairs_hook, **kw)\u001b[0m\n\u001b[1;32m    343\u001b[0m \u001b[39mif\u001b[39;00m (\u001b[39mcls\u001b[39m \u001b[39mis\u001b[39;00m \u001b[39mNone\u001b[39;00m \u001b[39mand\u001b[39;00m object_hook \u001b[39mis\u001b[39;00m \u001b[39mNone\u001b[39;00m \u001b[39mand\u001b[39;00m\n\u001b[1;32m    344\u001b[0m         parse_int \u001b[39mis\u001b[39;00m \u001b[39mNone\u001b[39;00m \u001b[39mand\u001b[39;00m parse_float \u001b[39mis\u001b[39;00m \u001b[39mNone\u001b[39;00m \u001b[39mand\u001b[39;00m\n\u001b[1;32m    345\u001b[0m         parse_constant \u001b[39mis\u001b[39;00m \u001b[39mNone\u001b[39;00m \u001b[39mand\u001b[39;00m object_pairs_hook \u001b[39mis\u001b[39;00m \u001b[39mNone\u001b[39;00m \u001b[39mand\u001b[39;00m \u001b[39mnot\u001b[39;00m kw):\n\u001b[0;32m--> 346\u001b[0m     \u001b[39mreturn\u001b[39;00m _default_decoder\u001b[39m.\u001b[39mdecode(s)\n\u001b[1;32m    347\u001b[0m \u001b[39mif\u001b[39;00m \u001b[39mcls\u001b[39m \u001b[39mis\u001b[39;00m \u001b[39mNone\u001b[39;00m:\n",
      "File \u001b[0;32m~/anaconda3/lib/python3.11/json/decoder.py:340\u001b[0m, in \u001b[0;36mJSONDecoder.decode\u001b[0;34m(self, s, _w)\u001b[0m\n\u001b[1;32m    339\u001b[0m \u001b[39mif\u001b[39;00m end \u001b[39m!=\u001b[39m \u001b[39mlen\u001b[39m(s):\n\u001b[0;32m--> 340\u001b[0m     \u001b[39mraise\u001b[39;00m JSONDecodeError(\u001b[39m\"\u001b[39m\u001b[39mExtra data\u001b[39m\u001b[39m\"\u001b[39m, s, end)\n\u001b[1;32m    341\u001b[0m \u001b[39mreturn\u001b[39;00m obj\n",
      "\u001b[0;31mJSONDecodeError\u001b[0m: Extra data: line 1 column 4 (char 3)",
      "\nDuring handling of the above exception, another exception occurred:\n",
      "\u001b[0;31mJSONDecodeError\u001b[0m                           Traceback (most recent call last)",
      "\u001b[1;32m/Users/paraggupta/Desktop/projects/TVD_Associates/unnamed.ipynb Cell 6\u001b[0m line \u001b[0;36m1\n\u001b[1;32m     <a href='vscode-notebook-cell:/Users/paraggupta/Desktop/projects/TVD_Associates/unnamed.ipynb#W5sZmlsZQ%3D%3D?line=12'>13</a>\u001b[0m \u001b[39m# Add markers to the map using zip codes\u001b[39;00m\n\u001b[1;32m     <a href='vscode-notebook-cell:/Users/paraggupta/Desktop/projects/TVD_Associates/unnamed.ipynb#W5sZmlsZQ%3D%3D?line=13'>14</a>\u001b[0m \u001b[39mfor\u001b[39;00m zip_code \u001b[39min\u001b[39;00m df[\u001b[39m'\u001b[39m\u001b[39mZip Code\u001b[39m\u001b[39m'\u001b[39m]:\n\u001b[1;32m     <a href='vscode-notebook-cell:/Users/paraggupta/Desktop/projects/TVD_Associates/unnamed.ipynb#W5sZmlsZQ%3D%3D?line=14'>15</a>\u001b[0m     folium\u001b[39m.\u001b[39mMarker(\n\u001b[0;32m---> <a href='vscode-notebook-cell:/Users/paraggupta/Desktop/projects/TVD_Associates/unnamed.ipynb#W5sZmlsZQ%3D%3D?line=15'>16</a>\u001b[0m         location\u001b[39m=\u001b[39mfolium\u001b[39m.\u001b[39mGeoJson(\u001b[39mf\u001b[39m\u001b[39m'\u001b[39m\u001b[39mhttps://raw.githubusercontent.com/pdxne/zipcode_geojson/master/zip_codes/\u001b[39m\u001b[39m{\u001b[39;00mzip_code\u001b[39m}\u001b[39;00m\u001b[39m.json\u001b[39m\u001b[39m'\u001b[39m)\u001b[39m.\u001b[39mdata[\u001b[39m'\u001b[39m\u001b[39mfeatures\u001b[39m\u001b[39m'\u001b[39m][\u001b[39m0\u001b[39m][\u001b[39m'\u001b[39m\u001b[39mgeometry\u001b[39m\u001b[39m'\u001b[39m][\u001b[39m'\u001b[39m\u001b[39mcoordinates\u001b[39m\u001b[39m'\u001b[39m],\n\u001b[1;32m     <a href='vscode-notebook-cell:/Users/paraggupta/Desktop/projects/TVD_Associates/unnamed.ipynb#W5sZmlsZQ%3D%3D?line=16'>17</a>\u001b[0m         popup\u001b[39m=\u001b[39mzip_code\n\u001b[1;32m     <a href='vscode-notebook-cell:/Users/paraggupta/Desktop/projects/TVD_Associates/unnamed.ipynb#W5sZmlsZQ%3D%3D?line=17'>18</a>\u001b[0m     )\u001b[39m.\u001b[39madd_to(m)\n\u001b[1;32m     <a href='vscode-notebook-cell:/Users/paraggupta/Desktop/projects/TVD_Associates/unnamed.ipynb#W5sZmlsZQ%3D%3D?line=19'>20</a>\u001b[0m \u001b[39m# Display the map\u001b[39;00m\n\u001b[1;32m     <a href='vscode-notebook-cell:/Users/paraggupta/Desktop/projects/TVD_Associates/unnamed.ipynb#W5sZmlsZQ%3D%3D?line=20'>21</a>\u001b[0m m\n",
      "File \u001b[0;32m~/anaconda3/lib/python3.11/site-packages/folium/features.py:693\u001b[0m, in \u001b[0;36mGeoJson.__init__\u001b[0;34m(self, data, style_function, highlight_function, popup_keep_highlighted, name, overlay, control, show, smooth_factor, tooltip, embed, popup, zoom_on_click, marker, **kwargs)\u001b[0m\n\u001b[1;32m    690\u001b[0m \u001b[39mself\u001b[39m\u001b[39m.\u001b[39mmarker \u001b[39m=\u001b[39m marker\n\u001b[1;32m    691\u001b[0m \u001b[39mself\u001b[39m\u001b[39m.\u001b[39moptions \u001b[39m=\u001b[39m parse_options(\u001b[39m*\u001b[39m\u001b[39m*\u001b[39mkwargs)\n\u001b[0;32m--> 693\u001b[0m \u001b[39mself\u001b[39m\u001b[39m.\u001b[39mdata \u001b[39m=\u001b[39m \u001b[39mself\u001b[39m\u001b[39m.\u001b[39mprocess_data(data)\n\u001b[1;32m    695\u001b[0m \u001b[39mif\u001b[39;00m \u001b[39mself\u001b[39m\u001b[39m.\u001b[39mstyle \u001b[39mor\u001b[39;00m \u001b[39mself\u001b[39m\u001b[39m.\u001b[39mhighlight:\n\u001b[1;32m    696\u001b[0m     \u001b[39mself\u001b[39m\u001b[39m.\u001b[39mconvert_to_feature_collection()\n",
      "File \u001b[0;32m~/anaconda3/lib/python3.11/site-packages/folium/features.py:723\u001b[0m, in \u001b[0;36mGeoJson.process_data\u001b[0;34m(self, data)\u001b[0m\n\u001b[1;32m    721\u001b[0m     \u001b[39mif\u001b[39;00m \u001b[39mnot\u001b[39;00m \u001b[39mself\u001b[39m\u001b[39m.\u001b[39membed:\n\u001b[1;32m    722\u001b[0m         \u001b[39mself\u001b[39m\u001b[39m.\u001b[39membed_link \u001b[39m=\u001b[39m data\n\u001b[0;32m--> 723\u001b[0m     \u001b[39mreturn\u001b[39;00m \u001b[39mself\u001b[39m\u001b[39m.\u001b[39mget_geojson_from_web(data)\n\u001b[1;32m    724\u001b[0m \u001b[39melif\u001b[39;00m data\u001b[39m.\u001b[39mlstrip()[\u001b[39m0\u001b[39m] \u001b[39min\u001b[39;00m \u001b[39m\"\u001b[39m\u001b[39m[\u001b[39m\u001b[39m{\u001b[39m\u001b[39m\"\u001b[39m:  \u001b[39m# This is a GeoJSON inline string\u001b[39;00m\n\u001b[1;32m    725\u001b[0m     \u001b[39mself\u001b[39m\u001b[39m.\u001b[39membed \u001b[39m=\u001b[39m \u001b[39mTrue\u001b[39;00m\n",
      "File \u001b[0;32m~/anaconda3/lib/python3.11/site-packages/folium/features.py:743\u001b[0m, in \u001b[0;36mGeoJson.get_geojson_from_web\u001b[0;34m(self, url)\u001b[0m\n\u001b[1;32m    742\u001b[0m \u001b[39mdef\u001b[39;00m \u001b[39mget_geojson_from_web\u001b[39m(\u001b[39mself\u001b[39m, url: \u001b[39mstr\u001b[39m) \u001b[39m-\u001b[39m\u001b[39m>\u001b[39m \u001b[39mdict\u001b[39m:\n\u001b[0;32m--> 743\u001b[0m     \u001b[39mreturn\u001b[39;00m requests\u001b[39m.\u001b[39mget(url)\u001b[39m.\u001b[39mjson()\n",
      "File \u001b[0;32m~/anaconda3/lib/python3.11/site-packages/requests/models.py:975\u001b[0m, in \u001b[0;36mResponse.json\u001b[0;34m(self, **kwargs)\u001b[0m\n\u001b[1;32m    971\u001b[0m     \u001b[39mreturn\u001b[39;00m complexjson\u001b[39m.\u001b[39mloads(\u001b[39mself\u001b[39m\u001b[39m.\u001b[39mtext, \u001b[39m*\u001b[39m\u001b[39m*\u001b[39mkwargs)\n\u001b[1;32m    972\u001b[0m \u001b[39mexcept\u001b[39;00m JSONDecodeError \u001b[39mas\u001b[39;00m e:\n\u001b[1;32m    973\u001b[0m     \u001b[39m# Catch JSON-related errors and raise as requests.JSONDecodeError\u001b[39;00m\n\u001b[1;32m    974\u001b[0m     \u001b[39m# This aliases json.JSONDecodeError and simplejson.JSONDecodeError\u001b[39;00m\n\u001b[0;32m--> 975\u001b[0m     \u001b[39mraise\u001b[39;00m RequestsJSONDecodeError(e\u001b[39m.\u001b[39mmsg, e\u001b[39m.\u001b[39mdoc, e\u001b[39m.\u001b[39mpos)\n",
      "\u001b[0;31mJSONDecodeError\u001b[0m: Extra data: line 1 column 4 (char 3)"
     ]
    }
   ],
   "source": [
    "import folium\n",
    "import pandas as pd\n",
    "\n",
    "# Sample data\n",
    "zip_codes = ['10001', '10002', '10003', '10001', '10004', '10002', '10005', '10001']\n",
    "\n",
    "# Create a Pandas DataFrame\n",
    "df = pd.DataFrame({'Zip Code': zip_codes})\n",
    "\n",
    "# Create a map object\n",
    "m = folium.Map(location=[40.7128, -74.0060], zoom_start=11)\n",
    "\n",
    "# Add markers to the map using zip codes\n",
    "for zip_code in df['Zip Code']:\n",
    "    folium.Marker(\n",
    "        location=folium.GeoJson(f'https://raw.githubusercontent.com/pdxne/zipcode_geojson/master/zip_codes/{zip_code}.json').data['features'][0]['geometry']['coordinates'],\n",
    "        popup=zip_code\n",
    "    ).add_to(m)\n",
    "\n",
    "# Display the map\n",
    "m"
   ]
  }
 ],
 "metadata": {
  "kernelspec": {
   "display_name": "Python 3",
   "language": "python",
   "name": "python3"
  },
  "language_info": {
   "codemirror_mode": {
    "name": "ipython",
    "version": 3
   },
   "file_extension": ".py",
   "mimetype": "text/x-python",
   "name": "python",
   "nbconvert_exporter": "python",
   "pygments_lexer": "ipython3",
   "version": "3.11.4"
  }
 },
 "nbformat": 4,
 "nbformat_minor": 2
}
